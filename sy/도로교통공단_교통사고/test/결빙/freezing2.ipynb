{
 "cells": [
  {
   "cell_type": "code",
   "execution_count": 1,
   "metadata": {},
   "outputs": [
    {
     "ename": "ValueError",
     "evalue": "not enough values to unpack (expected 8, got 1)",
     "output_type": "error",
     "traceback": [
      "\u001b[0;31m---------------------------------------------------------------------------\u001b[0m",
      "\u001b[0;31mValueError\u001b[0m                                Traceback (most recent call last)",
      "\u001b[1;32m/Users/sophie/Desktop/230118_11AM/Weather-and-traffic-accidents/sy/도로교통공단_교통사고/test/결빙/freezing2.ipynb 셀 1\u001b[0m line \u001b[0;36m1\n\u001b[1;32m     <a href='vscode-notebook-cell:/Users/sophie/Desktop/230118_11AM/Weather-and-traffic-accidents/sy/%EB%8F%84%EB%A1%9C%EA%B5%90%ED%86%B5%EA%B3%B5%EB%8B%A8_%EA%B5%90%ED%86%B5%EC%82%AC%EA%B3%A0/test/%EA%B2%B0%EB%B9%99/freezing2.ipynb#X14sZmlsZQ%3D%3D?line=15'>16</a>\u001b[0m \u001b[39mfor\u001b[39;00m line \u001b[39min\u001b[39;00m lines[\u001b[39m1\u001b[39m:]:  \u001b[39m# 첫 번째 줄은 헤더이므로 생략\u001b[39;00m\n\u001b[1;32m     <a href='vscode-notebook-cell:/Users/sophie/Desktop/230118_11AM/Weather-and-traffic-accidents/sy/%EB%8F%84%EB%A1%9C%EA%B5%90%ED%86%B5%EA%B3%B5%EB%8B%A8_%EA%B5%90%ED%86%B5%EC%82%AC%EA%B3%A0/test/%EA%B2%B0%EB%B9%99/freezing2.ipynb#X14sZmlsZQ%3D%3D?line=16'>17</a>\u001b[0m     parts \u001b[39m=\u001b[39m line\u001b[39m.\u001b[39msplit(\u001b[39m'\u001b[39m\u001b[39m,\u001b[39m\u001b[39m'\u001b[39m)\n\u001b[0;32m---> <a href='vscode-notebook-cell:/Users/sophie/Desktop/230118_11AM/Weather-and-traffic-accidents/sy/%EB%8F%84%EB%A1%9C%EA%B5%90%ED%86%B5%EA%B3%B5%EB%8B%A8_%EA%B5%90%ED%86%B5%EC%82%AC%EA%B3%A0/test/%EA%B2%B0%EB%B9%99/freezing2.ipynb#X14sZmlsZQ%3D%3D?line=17'>18</a>\u001b[0m     관리번호, 본부, 지사, 노선, 시점, 종점, 방향, 연장 \u001b[39m=\u001b[39m parts\n\u001b[1;32m     <a href='vscode-notebook-cell:/Users/sophie/Desktop/230118_11AM/Weather-and-traffic-accidents/sy/%EB%8F%84%EB%A1%9C%EA%B5%90%ED%86%B5%EA%B3%B5%EB%8B%A8_%EA%B5%90%ED%86%B5%EC%82%AC%EA%B3%A0/test/%EA%B2%B0%EB%B9%99/freezing2.ipynb#X14sZmlsZQ%3D%3D?line=18'>19</a>\u001b[0m     연장 \u001b[39m=\u001b[39m \u001b[39mint\u001b[39m(연장)\n\u001b[1;32m     <a href='vscode-notebook-cell:/Users/sophie/Desktop/230118_11AM/Weather-and-traffic-accidents/sy/%EB%8F%84%EB%A1%9C%EA%B5%90%ED%86%B5%EA%B3%B5%EB%8B%A8_%EA%B5%90%ED%86%B5%EC%82%AC%EA%B3%A0/test/%EA%B2%B0%EB%B9%99/freezing2.ipynb#X14sZmlsZQ%3D%3D?line=20'>21</a>\u001b[0m     \u001b[39m# 연장이 5 이상인 구간을 결빙 취약 구간으로 판단\u001b[39;00m\n",
      "\u001b[0;31mValueError\u001b[0m: not enough values to unpack (expected 8, got 1)"
     ]
    }
   ],
   "source": [
    "# 데이터 파싱 및 분석 코드\n",
    "\n",
    "data = \"\"\"1,수도권,인천,수도권제1순환선,92,93,양방향,1\n",
    "2,수도권,시흥,서해안선,333,334,양방향,1\n",
    "...\n",
    "161,부산경남,고성,통영대전선,39,40,양방향,1\n",
    "162,부산경남,서울산,경부선,53,56,양방향,3\"\"\"\n",
    "\n",
    "# 데이터를 줄 단위로 분할\n",
    "lines = data.split('\\n')\n",
    "\n",
    "# 결과를 저장할 변수\n",
    "vulnerable_sections = []\n",
    "\n",
    "# 데이터 처리\n",
    "for line in lines[1:]:  # 첫 번째 줄은 헤더이므로 생략\n",
    "    parts = line.split(',')\n",
    "    관리번호, 본부, 지사, 노선, 시점, 종점, 방향, 연장 = parts\n",
    "    연장 = int(연장)\n",
    "    \n",
    "    # 연장이 5 이상인 구간을 결빙 취약 구간으로 판단\n",
    "    if 연장 >= 5:\n",
    "        vulnerable_sections.append({\n",
    "            '노선': 노선,\n",
    "            '시점': 시점,\n",
    "            '종점': 종점,\n",
    "            '방향': 방향,\n",
    "            '연장': 연장\n",
    "        })\n",
    "\n",
    "# 결빙 취약 구간 출력\n",
    "print(\"# 결빙 취약 구간 현황\")\n",
    "for section in vulnerable_sections:\n",
    "    print(f\"노선: {section['노선']}, 시점: {section['시점']}, 종점: {section['종점']}, 방향: {section['방향']}, 연장: {section['연장']} km\")\n"
   ]
  }
 ],
 "metadata": {
  "kernelspec": {
   "display_name": "Python 3",
   "language": "python",
   "name": "python3"
  },
  "language_info": {
   "codemirror_mode": {
    "name": "ipython",
    "version": 3
   },
   "file_extension": ".py",
   "mimetype": "text/x-python",
   "name": "python",
   "nbconvert_exporter": "python",
   "pygments_lexer": "ipython3",
   "version": "3.12.1"
  }
 },
 "nbformat": 4,
 "nbformat_minor": 2
}
