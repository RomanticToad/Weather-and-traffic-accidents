{
 "cells": [
  {
   "cell_type": "code",
   "execution_count": 4,
   "metadata": {},
   "outputs": [
    {
     "name": "stdout",
     "output_type": "stream",
     "text": [
      "잘못된 데이터 포맷: ...\n",
      "# 결빙 취약 구간 현황\n"
     ]
    }
   ],
   "source": [
    "# 데이터 파싱 및 분석 코드\n",
    "\n",
    "data = \"\"\"1,수도권,인천,수도권제1순환선,92,93,양방향,1\n",
    "2,수도권,시흥,서해안선,333,334,양방향,1\n",
    "...\n",
    "161,부산경남,고성,통영대전선,39,40,양방향,1\n",
    "162,부산경남,서울산,경부선,53,56,양방향,3\"\"\"\n",
    "\n",
    "# 데이터를 줄 단위로 분할\n",
    "lines = data.split('\\n')\n",
    "\n",
    "# 결과를 저장할 변수\n",
    "vulnerable_sections = []\n",
    "\n",
    "# 데이터 처리\n",
    "for line in lines[1:]:  # 첫 번째 줄은 헤더이므로 생략\n",
    "    parts = line.split(',')\n",
    "    \n",
    "    # 데이터의 길이가 충분한지 확인\n",
    "    if len(parts) >= 8:\n",
    "        관리번호, 본부, 지사, 노선, 시점, 종점, 방향, 연장 = parts[0], parts[1], parts[2], parts[3], parts[4], parts[5], parts[6], int(parts[7])\n",
    "        \n",
    "        # 연장이 5 이상인 구간을 결빙 취약 구간으로 판단\n",
    "        if 연장 >= 5:\n",
    "            vulnerable_sections.append({\n",
    "                '노선': 노선,\n",
    "                '시점': 시점,\n",
    "                '종점': 종점,\n",
    "                '방향': 방향,\n",
    "                '연장': 연장\n",
    "            })\n",
    "    else:\n",
    "        print(f\"잘못된 데이터 포맷: {line}\")\n",
    "\n",
    "# 결빙 취약 구간 출력\n",
    "print(\"# 결빙 취약 구간 현황\")\n",
    "for section in vulnerable_sections:\n",
    "    print(f\"노선: {section['노선']}, 시점: {section['시점']}, 종점: {section['종점']}, 방향: {section['방향']}, 연장: {section['연장']} km\")\n"
   ]
  }
 ],
 "metadata": {
  "kernelspec": {
   "display_name": "Python 3",
   "language": "python",
   "name": "python3"
  },
  "language_info": {
   "codemirror_mode": {
    "name": "ipython",
    "version": 3
   },
   "file_extension": ".py",
   "mimetype": "text/x-python",
   "name": "python",
   "nbconvert_exporter": "python",
   "pygments_lexer": "ipython3",
   "version": "3.12.1"
  }
 },
 "nbformat": 4,
 "nbformat_minor": 2
}
