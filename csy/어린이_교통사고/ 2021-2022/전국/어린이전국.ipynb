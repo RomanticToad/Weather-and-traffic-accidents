{
 "cells": [
  {
   "cell_type": "code",
   "execution_count": 1,
   "metadata": {},
   "outputs": [
    {
     "name": "stdout",
     "output_type": "stream",
     "text": [
      "       행정구역별(1)  행정구역별(2)      2021    2021.1    2021.2      2022    2022.1  \\\n",
      "0      행정구역별(1)  행정구역별(2)  사고건수 (건)  사망자수 (명)  부상자수 (명)  사고건수 (건)  사망자수 (명)   \n",
      "1  ... (데이터 계속)       NaN       NaN       NaN       NaN       NaN       NaN   \n",
      "\n",
      "     2022.2  \n",
      "0  부상자수 (명)  \n",
      "1       NaN  \n"
     ]
    }
   ],
   "source": [
    "import pandas as pd\n",
    "from io import StringIO\n",
    "\n",
    "# 주어진 데이터\n",
    "data = \"\"\"\n",
    "\"행정구역별(1)\",행정구역별(2),2021,2021,2021,2022,2022,2022\n",
    "\"행정구역별(1)\",행정구역별(2),사고건수 (건),사망자수 (명),부상자수 (명),사고건수 (건),사망자수 (명),부상자수 (명)\n",
    "... (데이터 계속)\n",
    "\"\"\"\n",
    "\n",
    "# StringIO를 사용하여 문자열을 파일처럼 다룸\n",
    "data_file = StringIO(data)\n",
    "\n",
    "# CSV 파일을 DataFrame으로 읽어오기\n",
    "df = pd.read_csv(data_file)\n",
    "\n",
    "# 데이터 프레임 확인\n",
    "print(df.head())"
   ]
  }
 ],
 "metadata": {
  "kernelspec": {
   "display_name": "Python 3",
   "language": "python",
   "name": "python3"
  },
  "language_info": {
   "codemirror_mode": {
    "name": "ipython",
    "version": 3
   },
   "file_extension": ".py",
   "mimetype": "text/x-python",
   "name": "python",
   "nbconvert_exporter": "python",
   "pygments_lexer": "ipython3",
   "version": "3.12.1"
  }
 },
 "nbformat": 4,
 "nbformat_minor": 2
}
