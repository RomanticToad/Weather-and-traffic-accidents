{
 "cells": [
  {
   "cell_type": "code",
   "execution_count": null,
   "metadata": {},
   "outputs": [],
   "source": [
    "## TAAS 교통사고데이터 좌표 크롤러 with Selenium\n",
    "Selenium을 이용한 동적 크롤링"
   ]
  },
  {
   "cell_type": "code",
   "execution_count": 3,
   "metadata": {},
   "outputs": [],
   "source": [
    "from selenium import webdriver\n",
    "from selenium.webdriver.common.by import By\n",
    "from selenium.webdriver.common.keys import Keys\n",
    "from selenium.webdriver.support.select import Select\n",
    "from urllib import parse\n",
    "import time\n",
    "import pandas as pd\n",
    "import re\n",
    "from tqdm import tqdm"
   ]
  },
  {
   "cell_type": "code",
   "execution_count": 32,
   "metadata": {},
   "outputs": [],
   "source": [
    "# TAAS GIS 시스템 로드\n",
    "driver = webdriver.Chrome()\n",
    "driver.maximize_window()\n",
    "driver.get('http://taas.koroad.or.kr/gis/mcm/mcl/initMap.do?menuId=GIS_GMP_STS_RSN')\n",
    "time.sleep(1)"
   ]
  },
  {
   "cell_type": "code",
   "execution_count": 34,
   "metadata": {},
   "outputs": [],
   "source": [
    "#융합분석(menuRoadNoSearch) 선택\n",
    "menuRoadNoSearch_element = driver.find_element(By.ID, 'menuRoadNoSearch')\n",
    "\n",
    "# menuRoadNoSearch를 찾았다면 클릭\n",
    "if menuRoadNoSearch_element:\n",
    "    menuRoadNoSearch_element.click()\n",
    "\n",
    "\n",
    "# selectBox지정\n",
    "#2018년 시작\n",
    "selectboxStart = driver.find_element(By.ID, 'ptsNafYearStart')\n",
    "select = Select(selectboxStart)\n",
    "select.select_by_value(\"2018\") \n",
    "\n",
    "#2020년 종료\n",
    "selectboxYearEnd = driver.find_element(By.ID, 'ptsNafYearEnd')\n",
    "select = Select(selectboxYearEnd)\n",
    "select.select_by_value(\"2020\") \n",
    "\n",
    "#고속국도 조회\n",
    "selectboxRoadRank = driver.find_element(By.ID, 'ptsNafRoadRank')\n",
    "select = Select(selectboxRoadRank)\n",
    "select.select_by_visible_text(\"고속국도\") \n",
    "\n",
    "#도로명 지정\n",
    "selectboxRoadName = driver.find_element(By.ID, 'ptsNafCh1RoadName')\n",
    "select = Select(selectboxRoadName)\n",
    "select.select_by_visible_text(\"구마고속도로\") \n",
    "\n",
    "\n",
    "\n",
    "#checkbox 지정\n",
    "#조건설정 전부 체크\n",
    "checkbox_elements = driver.find_elements(By.CSS_SELECTOR, '#ptsNafCh1AccidentContent input[type=\"checkbox\"]')\n",
    "\n",
    "# Check all checkboxes\n",
    "for checkbox in checkbox_elements:\n",
    "    if not checkbox.is_selected():\n",
    "        checkbox.click()\n",
    "\n"
   ]
  },
  {
   "cell_type": "code",
   "execution_count": 6,
   "metadata": {},
   "outputs": [
    {
     "ename": "NoSuchElementException",
     "evalue": "Message: no such element: Unable to locate element: {\"method\":\"xpath\",\"selector\":\"//*[@id=\"subRoadNumberAccidentFind\"]/div[2]/p/a\"}\n  (Session info: chrome=120.0.6099.225); For documentation on this error, please visit: https://www.selenium.dev/documentation/webdriver/troubleshooting/errors#no-such-element-exception\nStacktrace:\n\tGetHandleVerifier [0x00007FF6B7502142+3514994]\n\t(No symbol) [0x00007FF6B7120CE2]\n\t(No symbol) [0x00007FF6B6FC76AA]\n\t(No symbol) [0x00007FF6B7011860]\n\t(No symbol) [0x00007FF6B701197C]\n\t(No symbol) [0x00007FF6B7054EE7]\n\t(No symbol) [0x00007FF6B703602F]\n\t(No symbol) [0x00007FF6B70528F6]\n\t(No symbol) [0x00007FF6B7035D93]\n\t(No symbol) [0x00007FF6B7004BDC]\n\t(No symbol) [0x00007FF6B7005C64]\n\tGetHandleVerifier [0x00007FF6B752E16B+3695259]\n\tGetHandleVerifier [0x00007FF6B7586737+4057191]\n\tGetHandleVerifier [0x00007FF6B757E4E3+4023827]\n\tGetHandleVerifier [0x00007FF6B72504F9+689705]\n\t(No symbol) [0x00007FF6B712C048]\n\t(No symbol) [0x00007FF6B7128044]\n\t(No symbol) [0x00007FF6B71281C9]\n\t(No symbol) [0x00007FF6B71188C4]\n\tBaseThreadInitThunk [0x00007FFFCA1B7614+20]\n\tRtlUserThreadStart [0x00007FFFCA6A26A1+33]\n",
     "output_type": "error",
     "traceback": [
      "\u001b[1;31m---------------------------------------------------------------------------\u001b[0m",
      "\u001b[1;31mNoSuchElementException\u001b[0m                    Traceback (most recent call last)",
      "Cell \u001b[1;32mIn[6], line 2\u001b[0m\n\u001b[0;32m      1\u001b[0m \u001b[38;5;66;03m# search\u001b[39;00m\n\u001b[1;32m----> 2\u001b[0m \u001b[43mdriver\u001b[49m\u001b[38;5;241;43m.\u001b[39;49m\u001b[43mfind_element\u001b[49m\u001b[43m(\u001b[49m\u001b[43mBy\u001b[49m\u001b[38;5;241;43m.\u001b[39;49m\u001b[43mXPATH\u001b[49m\u001b[43m,\u001b[49m\u001b[43m \u001b[49m\u001b[38;5;124;43m'\u001b[39;49m\u001b[38;5;124;43m//*[@id=\u001b[39;49m\u001b[38;5;124;43m\"\u001b[39;49m\u001b[38;5;124;43msubRoadNumberAccidentFind\u001b[39;49m\u001b[38;5;124;43m\"\u001b[39;49m\u001b[38;5;124;43m]/div[2]/p/a\u001b[39;49m\u001b[38;5;124;43m'\u001b[39;49m\u001b[43m)\u001b[49m\u001b[38;5;241m.\u001b[39msend_keys(Keys\u001b[38;5;241m.\u001b[39mENTER)\n\u001b[0;32m      3\u001b[0m time\u001b[38;5;241m.\u001b[39msleep(\u001b[38;5;241m1\u001b[39m)\n",
      "File \u001b[1;32mc:\\Users\\na\\AppData\\Local\\Programs\\Python\\Python312\\Lib\\site-packages\\selenium\\webdriver\\remote\\webdriver.py:742\u001b[0m, in \u001b[0;36mWebDriver.find_element\u001b[1;34m(self, by, value)\u001b[0m\n\u001b[0;32m    739\u001b[0m     by \u001b[38;5;241m=\u001b[39m By\u001b[38;5;241m.\u001b[39mCSS_SELECTOR\n\u001b[0;32m    740\u001b[0m     value \u001b[38;5;241m=\u001b[39m \u001b[38;5;124mf\u001b[39m\u001b[38;5;124m'\u001b[39m\u001b[38;5;124m[name=\u001b[39m\u001b[38;5;124m\"\u001b[39m\u001b[38;5;132;01m{\u001b[39;00mvalue\u001b[38;5;132;01m}\u001b[39;00m\u001b[38;5;124m\"\u001b[39m\u001b[38;5;124m]\u001b[39m\u001b[38;5;124m'\u001b[39m\n\u001b[1;32m--> 742\u001b[0m \u001b[38;5;28;01mreturn\u001b[39;00m \u001b[38;5;28;43mself\u001b[39;49m\u001b[38;5;241;43m.\u001b[39;49m\u001b[43mexecute\u001b[49m\u001b[43m(\u001b[49m\u001b[43mCommand\u001b[49m\u001b[38;5;241;43m.\u001b[39;49m\u001b[43mFIND_ELEMENT\u001b[49m\u001b[43m,\u001b[49m\u001b[43m \u001b[49m\u001b[43m{\u001b[49m\u001b[38;5;124;43m\"\u001b[39;49m\u001b[38;5;124;43musing\u001b[39;49m\u001b[38;5;124;43m\"\u001b[39;49m\u001b[43m:\u001b[49m\u001b[43m \u001b[49m\u001b[43mby\u001b[49m\u001b[43m,\u001b[49m\u001b[43m \u001b[49m\u001b[38;5;124;43m\"\u001b[39;49m\u001b[38;5;124;43mvalue\u001b[39;49m\u001b[38;5;124;43m\"\u001b[39;49m\u001b[43m:\u001b[49m\u001b[43m \u001b[49m\u001b[43mvalue\u001b[49m\u001b[43m}\u001b[49m\u001b[43m)\u001b[49m[\u001b[38;5;124m\"\u001b[39m\u001b[38;5;124mvalue\u001b[39m\u001b[38;5;124m\"\u001b[39m]\n",
      "File \u001b[1;32mc:\\Users\\na\\AppData\\Local\\Programs\\Python\\Python312\\Lib\\site-packages\\selenium\\webdriver\\remote\\webdriver.py:348\u001b[0m, in \u001b[0;36mWebDriver.execute\u001b[1;34m(self, driver_command, params)\u001b[0m\n\u001b[0;32m    346\u001b[0m response \u001b[38;5;241m=\u001b[39m \u001b[38;5;28mself\u001b[39m\u001b[38;5;241m.\u001b[39mcommand_executor\u001b[38;5;241m.\u001b[39mexecute(driver_command, params)\n\u001b[0;32m    347\u001b[0m \u001b[38;5;28;01mif\u001b[39;00m response:\n\u001b[1;32m--> 348\u001b[0m     \u001b[38;5;28;43mself\u001b[39;49m\u001b[38;5;241;43m.\u001b[39;49m\u001b[43merror_handler\u001b[49m\u001b[38;5;241;43m.\u001b[39;49m\u001b[43mcheck_response\u001b[49m\u001b[43m(\u001b[49m\u001b[43mresponse\u001b[49m\u001b[43m)\u001b[49m\n\u001b[0;32m    349\u001b[0m     response[\u001b[38;5;124m\"\u001b[39m\u001b[38;5;124mvalue\u001b[39m\u001b[38;5;124m\"\u001b[39m] \u001b[38;5;241m=\u001b[39m \u001b[38;5;28mself\u001b[39m\u001b[38;5;241m.\u001b[39m_unwrap_value(response\u001b[38;5;241m.\u001b[39mget(\u001b[38;5;124m\"\u001b[39m\u001b[38;5;124mvalue\u001b[39m\u001b[38;5;124m\"\u001b[39m, \u001b[38;5;28;01mNone\u001b[39;00m))\n\u001b[0;32m    350\u001b[0m     \u001b[38;5;28;01mreturn\u001b[39;00m response\n",
      "File \u001b[1;32mc:\\Users\\na\\AppData\\Local\\Programs\\Python\\Python312\\Lib\\site-packages\\selenium\\webdriver\\remote\\errorhandler.py:229\u001b[0m, in \u001b[0;36mErrorHandler.check_response\u001b[1;34m(self, response)\u001b[0m\n\u001b[0;32m    227\u001b[0m         alert_text \u001b[38;5;241m=\u001b[39m value[\u001b[38;5;124m\"\u001b[39m\u001b[38;5;124malert\u001b[39m\u001b[38;5;124m\"\u001b[39m]\u001b[38;5;241m.\u001b[39mget(\u001b[38;5;124m\"\u001b[39m\u001b[38;5;124mtext\u001b[39m\u001b[38;5;124m\"\u001b[39m)\n\u001b[0;32m    228\u001b[0m     \u001b[38;5;28;01mraise\u001b[39;00m exception_class(message, screen, stacktrace, alert_text)  \u001b[38;5;66;03m# type: ignore[call-arg]  # mypy is not smart enough here\u001b[39;00m\n\u001b[1;32m--> 229\u001b[0m \u001b[38;5;28;01mraise\u001b[39;00m exception_class(message, screen, stacktrace)\n",
      "\u001b[1;31mNoSuchElementException\u001b[0m: Message: no such element: Unable to locate element: {\"method\":\"xpath\",\"selector\":\"//*[@id=\"subRoadNumberAccidentFind\"]/div[2]/p/a\"}\n  (Session info: chrome=120.0.6099.225); For documentation on this error, please visit: https://www.selenium.dev/documentation/webdriver/troubleshooting/errors#no-such-element-exception\nStacktrace:\n\tGetHandleVerifier [0x00007FF6B7502142+3514994]\n\t(No symbol) [0x00007FF6B7120CE2]\n\t(No symbol) [0x00007FF6B6FC76AA]\n\t(No symbol) [0x00007FF6B7011860]\n\t(No symbol) [0x00007FF6B701197C]\n\t(No symbol) [0x00007FF6B7054EE7]\n\t(No symbol) [0x00007FF6B703602F]\n\t(No symbol) [0x00007FF6B70528F6]\n\t(No symbol) [0x00007FF6B7035D93]\n\t(No symbol) [0x00007FF6B7004BDC]\n\t(No symbol) [0x00007FF6B7005C64]\n\tGetHandleVerifier [0x00007FF6B752E16B+3695259]\n\tGetHandleVerifier [0x00007FF6B7586737+4057191]\n\tGetHandleVerifier [0x00007FF6B757E4E3+4023827]\n\tGetHandleVerifier [0x00007FF6B72504F9+689705]\n\t(No symbol) [0x00007FF6B712C048]\n\t(No symbol) [0x00007FF6B7128044]\n\t(No symbol) [0x00007FF6B71281C9]\n\t(No symbol) [0x00007FF6B71188C4]\n\tBaseThreadInitThunk [0x00007FFFCA1B7614+20]\n\tRtlUserThreadStart [0x00007FFFCA6A26A1+33]\n"
     ]
    }
   ],
   "source": [
    "# search\n",
    "driver.find_element(By.XPATH, '//*[@id=\"subRoadNumberAccidentFind\"]/div[2]/p/a').send_keys(Keys.ENTER)\n",
    "time.sleep(1)\n"
   ]
  },
  {
   "cell_type": "code",
   "execution_count": 35,
   "metadata": {},
   "outputs": [
    {
     "name": "stderr",
     "output_type": "stream",
     "text": [
      "  0%|          | 0/1 [00:01<?, ?it/s]"
     ]
    },
    {
     "name": "stdout",
     "output_type": "stream",
     "text": [
      "src : 얘 출력해줘\n",
      "Debugging - src content: https://map2.daumcdn.net/map_2d/2212ejo/L14/-3/3.png\n",
      "src_split : ['https://map2.daumcdn.net/map_2d/2212ejo/L14/-3/3.png']\n",
      "Debugging - src_split:\n",
      "https://map2.daumcdn.net/map_2d/2212ejo/L14/-3/3.png\n"
     ]
    },
    {
     "name": "stderr",
     "output_type": "stream",
     "text": [
      "\n"
     ]
    },
    {
     "ename": "IndexError",
     "evalue": "list index out of range",
     "output_type": "error",
     "traceback": [
      "\u001b[1;31m---------------------------------------------------------------------------\u001b[0m",
      "\u001b[1;31mIndexError\u001b[0m                                Traceback (most recent call last)",
      "Cell \u001b[1;32mIn[35], line 30\u001b[0m\n\u001b[0;32m     27\u001b[0m \u001b[38;5;28;01melse\u001b[39;00m:\n\u001b[0;32m     28\u001b[0m     \u001b[38;5;28mprint\u001b[39m(\u001b[38;5;124m\"\u001b[39m\u001b[38;5;124mDebugging - src_split:\u001b[39m\u001b[38;5;124m\"\u001b[39m, src_split)\n\u001b[1;32m---> 30\u001b[0m bbox_text \u001b[38;5;241m=\u001b[39m \u001b[43msrc_split\u001b[49m\u001b[43m[\u001b[49m\u001b[38;5;241;43m-\u001b[39;49m\u001b[38;5;241;43m3\u001b[39;49m\u001b[43m]\u001b[49m[\u001b[38;5;241m5\u001b[39m:]\n\u001b[0;32m     31\u001b[0m \u001b[38;5;28mprint\u001b[39m(\u001b[38;5;124m\"\u001b[39m\u001b[38;5;124mbbox_text : \u001b[39m\u001b[38;5;124m\"\u001b[39m \u001b[38;5;241m+\u001b[39m bbox_text)\n\u001b[0;32m     32\u001b[0m \u001b[38;5;66;03m# coords = [float(i) for i in bbox_text.split(',')]\u001b[39;00m\n\u001b[0;32m     33\u001b[0m \u001b[38;5;66;03m# x, y = (coords[0] + coords[2]) / 2, (coords[1] + coords[3]) / 2  # center position\u001b[39;00m\n\u001b[0;32m     34\u001b[0m \u001b[38;5;66;03m# srs = src_split[-4][4:]\u001b[39;00m\n\u001b[0;32m     35\u001b[0m \u001b[38;5;66;03m# coord_ls.append([x, y])\u001b[39;00m\n\u001b[0;32m     36\u001b[0m \u001b[38;5;66;03m# srs_ls.append(srs)\u001b[39;00m\n",
      "\u001b[1;31mIndexError\u001b[0m: list index out of range"
     ]
    }
   ],
   "source": [
    "coord_ls = []\n",
    "srs_ls = []\n",
    "\n",
    "for i in tqdm(range(0, 1)):\n",
    "    driver.execute_script(f'gis.srh.msh.selectListUi({i}, 11);')  # 개별 사고지점\n",
    "    time.sleep(1)  # 로드\n",
    "    bbox = driver.find_elements(By.CLASS_NAME, 'olTileImage')[-1]\n",
    "\n",
    "    src = parse.unquote(bbox.get_attribute('src'))  # get src and unquote from 16byte\n",
    "    print(\"src : 얘 출력해줘\")\n",
    "\n",
    "    # 디버깅 코드\n",
    "    if isinstance(src, list):\n",
    "        print(\"Debugging - src content:\")\n",
    "        for element in src:\n",
    "            print(element)\n",
    "    else:\n",
    "        print(\"Debugging - src content:\", src)\n",
    "\n",
    "    src_split = src.split('&')\n",
    "    print(\"src_split : \" + str(src_split))  # Use str() to convert list to string\n",
    "\n",
    "    if isinstance(src_split, list):\n",
    "        print(\"Debugging - src_split:\")\n",
    "        for element in src_split:\n",
    "            print(element)\n",
    "    else:\n",
    "        print(\"Debugging - src_split:\", src_split)\n",
    "\n",
    "    bbox_text = src_split[-3][5:]\n",
    "    print(\"bbox_text : \" + bbox_text)\n",
    "    # coords = [float(i) for i in bbox_text.split(',')]\n",
    "    # x, y = (coords[0] + coords[2]) / 2, (coords[1] + coords[3]) / 2  # center position\n",
    "    # srs = src_split[-4][4:]\n",
    "    # coord_ls.append([x, y])\n",
    "    # srs_ls.append(srs)\n"
   ]
  },
  {
   "cell_type": "code",
   "execution_count": null,
   "metadata": {},
   "outputs": [],
   "source": []
  }
 ],
 "metadata": {
  "kernelspec": {
   "display_name": "Python 3",
   "language": "python",
   "name": "python3"
  },
  "language_info": {
   "codemirror_mode": {
    "name": "ipython",
    "version": 3
   },
   "file_extension": ".py",
   "mimetype": "text/x-python",
   "name": "python",
   "nbconvert_exporter": "python",
   "pygments_lexer": "ipython3",
   "version": "3.12.1"
  }
 },
 "nbformat": 4,
 "nbformat_minor": 2
}
