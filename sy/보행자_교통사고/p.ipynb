{
 "cells": [
  {
   "cell_type": "code",
   "execution_count": 6,
   "metadata": {},
   "outputs": [
    {
     "name": "stdout",
     "output_type": "stream",
     "text": [
      "An error occurred: Missing optional dependency 'openpyxl'.  Use pip or conda to install openpyxl.\n"
     ]
    }
   ],
   "source": [
    "import pandas as pd\n",
    "\n",
    "file_path = '/Users/sophie/Desktop/pedestrian.xls'\n",
    "\n",
    "try:\n",
    "    df = pd.read_excel(file_path, engine='openpyxl')\n",
    "    # Rest of your code\n",
    "except FileNotFoundError:\n",
    "    # Handle file not found error\n",
    "    print(\"File not found.\")\n",
    "except Exception as e:\n",
    "    # Handle other exceptions\n",
    "    print(f\"An error occurred: {e}\")"
   ]
  }
 ],
 "metadata": {
  "kernelspec": {
   "display_name": "Python 3",
   "language": "python",
   "name": "python3"
  },
  "language_info": {
   "codemirror_mode": {
    "name": "ipython",
    "version": 3
   },
   "file_extension": ".py",
   "mimetype": "text/x-python",
   "name": "python",
   "nbconvert_exporter": "python",
   "pygments_lexer": "ipython3",
   "version": "3.12.1"
  }
 },
 "nbformat": 4,
 "nbformat_minor": 2
}
