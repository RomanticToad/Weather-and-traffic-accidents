{
 "cells": [
  {
   "cell_type": "code",
   "execution_count": 10,
   "metadata": {},
   "outputs": [
    {
     "ename": "AttributeError",
     "evalue": "module 'pandas.compat' has no attribute 'StringIO'",
     "output_type": "error",
     "traceback": [
      "\u001b[0;31m---------------------------------------------------------------------------\u001b[0m",
      "\u001b[0;31mAttributeError\u001b[0m                            Traceback (most recent call last)",
      "\u001b[1;32m/Users/sophie/Desktop/230118_11AM/Weather-and-traffic-accidents/도로교통공단_교통사고/test/부문별/서울.부산.경기/doroold.ipynb 셀 1\u001b[0m line \u001b[0;36m1\n\u001b[1;32m     <a href='vscode-notebook-cell:/Users/sophie/Desktop/230118_11AM/Weather-and-traffic-accidents/%EB%8F%84%EB%A1%9C%EA%B5%90%ED%86%B5%EA%B3%B5%EB%8B%A8_%EA%B5%90%ED%86%B5%EC%82%AC%EA%B3%A0/test/%EB%B6%80%EB%AC%B8%EB%B3%84/%EC%84%9C%EC%9A%B8.%EB%B6%80%EC%82%B0.%EA%B2%BD%EA%B8%B0/doroold.ipynb#W1sZmlsZQ%3D%3D?line=13'>14</a>\u001b[0m file_path \u001b[39m=\u001b[39m \u001b[39m'\u001b[39m\u001b[39mdoroold.csv\u001b[39m\u001b[39m'\u001b[39m \n\u001b[1;32m     <a href='vscode-notebook-cell:/Users/sophie/Desktop/230118_11AM/Weather-and-traffic-accidents/%EB%8F%84%EB%A1%9C%EA%B5%90%ED%86%B5%EA%B3%B5%EB%8B%A8_%EA%B5%90%ED%86%B5%EC%82%AC%EA%B3%A0/test/%EB%B6%80%EB%AC%B8%EB%B3%84/%EC%84%9C%EC%9A%B8.%EB%B6%80%EC%82%B0.%EA%B2%BD%EA%B8%B0/doroold.ipynb#W1sZmlsZQ%3D%3D?line=14'>15</a>\u001b[0m \u001b[39m# file_path = '/Users/sophie/Desktop/doroold.csv'\u001b[39;00m\n\u001b[1;32m     <a href='vscode-notebook-cell:/Users/sophie/Desktop/230118_11AM/Weather-and-traffic-accidents/%EB%8F%84%EB%A1%9C%EA%B5%90%ED%86%B5%EA%B3%B5%EB%8B%A8_%EA%B5%90%ED%86%B5%EC%82%AC%EA%B3%A0/test/%EB%B6%80%EB%AC%B8%EB%B3%84/%EC%84%9C%EC%9A%B8.%EB%B6%80%EC%82%B0.%EA%B2%BD%EA%B8%B0/doroold.ipynb#W1sZmlsZQ%3D%3D?line=15'>16</a>\u001b[0m \n\u001b[1;32m     <a href='vscode-notebook-cell:/Users/sophie/Desktop/230118_11AM/Weather-and-traffic-accidents/%EB%8F%84%EB%A1%9C%EA%B5%90%ED%86%B5%EA%B3%B5%EB%8B%A8_%EA%B5%90%ED%86%B5%EC%82%AC%EA%B3%A0/test/%EB%B6%80%EB%AC%B8%EB%B3%84/%EC%84%9C%EC%9A%B8.%EB%B6%80%EC%82%B0.%EA%B2%BD%EA%B8%B0/doroold.ipynb#W1sZmlsZQ%3D%3D?line=16'>17</a>\u001b[0m \u001b[39m# 데이터프레임 생성\u001b[39;00m\n\u001b[0;32m---> <a href='vscode-notebook-cell:/Users/sophie/Desktop/230118_11AM/Weather-and-traffic-accidents/%EB%8F%84%EB%A1%9C%EA%B5%90%ED%86%B5%EA%B3%B5%EB%8B%A8_%EA%B5%90%ED%86%B5%EC%82%AC%EA%B3%A0/test/%EB%B6%80%EB%AC%B8%EB%B3%84/%EC%84%9C%EC%9A%B8.%EB%B6%80%EC%82%B0.%EA%B2%BD%EA%B8%B0/doroold.ipynb#W1sZmlsZQ%3D%3D?line=17'>18</a>\u001b[0m df \u001b[39m=\u001b[39m pd\u001b[39m.\u001b[39mread_csv(pd\u001b[39m.\u001b[39;49mcompat\u001b[39m.\u001b[39;49mStringIO(data), sep\u001b[39m=\u001b[39m\u001b[39m'\u001b[39m\u001b[39m,\u001b[39m\u001b[39m'\u001b[39m)\n\u001b[1;32m     <a href='vscode-notebook-cell:/Users/sophie/Desktop/230118_11AM/Weather-and-traffic-accidents/%EB%8F%84%EB%A1%9C%EA%B5%90%ED%86%B5%EA%B3%B5%EB%8B%A8_%EA%B5%90%ED%86%B5%EC%82%AC%EA%B3%A0/test/%EB%B6%80%EB%AC%B8%EB%B3%84/%EC%84%9C%EC%9A%B8.%EB%B6%80%EC%82%B0.%EA%B2%BD%EA%B8%B0/doroold.ipynb#W1sZmlsZQ%3D%3D?line=18'>19</a>\u001b[0m \u001b[39m# df = pd.read_csv(file_path, sep=',', encoding='utf-8')\u001b[39;00m\n\u001b[1;32m     <a href='vscode-notebook-cell:/Users/sophie/Desktop/230118_11AM/Weather-and-traffic-accidents/%EB%8F%84%EB%A1%9C%EA%B5%90%ED%86%B5%EA%B3%B5%EB%8B%A8_%EA%B5%90%ED%86%B5%EC%82%AC%EA%B3%A0/test/%EB%B6%80%EB%AC%B8%EB%B3%84/%EC%84%9C%EC%9A%B8.%EB%B6%80%EC%82%B0.%EA%B2%BD%EA%B8%B0/doroold.ipynb#W1sZmlsZQ%3D%3D?line=19'>20</a>\u001b[0m \n\u001b[1;32m     <a href='vscode-notebook-cell:/Users/sophie/Desktop/230118_11AM/Weather-and-traffic-accidents/%EB%8F%84%EB%A1%9C%EA%B5%90%ED%86%B5%EA%B3%B5%EB%8B%A8_%EA%B5%90%ED%86%B5%EC%82%AC%EA%B3%A0/test/%EB%B6%80%EB%AC%B8%EB%B3%84/%EC%84%9C%EC%9A%B8.%EB%B6%80%EC%82%B0.%EA%B2%BD%EA%B8%B0/doroold.ipynb#W1sZmlsZQ%3D%3D?line=20'>21</a>\u001b[0m \u001b[39m# 데이터 확인\u001b[39;00m\n\u001b[1;32m     <a href='vscode-notebook-cell:/Users/sophie/Desktop/230118_11AM/Weather-and-traffic-accidents/%EB%8F%84%EB%A1%9C%EA%B5%90%ED%86%B5%EA%B3%B5%EB%8B%A8_%EA%B5%90%ED%86%B5%EC%82%AC%EA%B3%A0/test/%EB%B6%80%EB%AC%B8%EB%B3%84/%EC%84%9C%EC%9A%B8.%EB%B6%80%EC%82%B0.%EA%B2%BD%EA%B8%B0/doroold.ipynb#W1sZmlsZQ%3D%3D?line=21'>22</a>\u001b[0m \u001b[39mprint\u001b[39m(df\u001b[39m.\u001b[39mhead())\n",
      "\u001b[0;31mAttributeError\u001b[0m: module 'pandas.compat' has no attribute 'StringIO'"
     ]
    }
   ],
   "source": [
    "\n",
    "# 주어진 데이터를 Python DataFrame으로 읽어오기\n",
    "import pandas as pd\n",
    "from io import StringIO\n",
    "import matplotlib.pyplot as plt\n",
    "from matplotlib import font_manager, rc\n",
    "\n",
    "\n",
    "# 한글 폰트 설정\n",
    "font_path = '/System/Library/Fonts/AppleSDGothicNeo.ttc' \n",
    "font_name = font_manager.FontProperties(fname=font_path).get_name()\n",
    "rc('font', family=font_name)\n",
    "\n",
    "# CSV 파일 읽기 - 도로교통공단_부문별_노인_교통사고_20181231\n",
    "file_path = 'doroold.csv' \n",
    "# file_path = '/Users/sophie/Desktop/doroold.csv'\n",
    "\n",
    "# 데이터프레임 생성\n",
    "df = pd.read_csv(pd.compat.StringIO(data), sep=',')\n",
    "# df = pd.read_csv(file_path, sep=',', encoding='utf-8')\n",
    "\n",
    "# 데이터 확인\n",
    "print(df.head())\n",
    "\n",
    "# 특정 지역(예: 서울)의 사고 통계 확인\n",
    "seoul_accidents = df[df['시도'] == '서울']\n",
    "print(\"\\n서울 지역 사고 통계:\\n\", seoul_accidents)\n",
    "\n",
    "# 특정 조건을 만족하는 데이터 추출 (예: 발생건수가 200 이상인 지역)\n",
    "high_accidents = df[df['발생건수'] >= 200]\n",
    "print(\"\\n발생건수가 200 이상인 지역:\\n\", high_accidents)"
   ]
  },
  {
   "cell_type": "code",
   "execution_count": null,
   "metadata": {},
   "outputs": [
    {
     "ename": "ModuleNotFoundError",
     "evalue": "No module named 'chardet'",
     "output_type": "error",
     "traceback": [
      "\u001b[0;31m---------------------------------------------------------------------------\u001b[0m",
      "\u001b[0;31mModuleNotFoundError\u001b[0m                       Traceback (most recent call last)",
      "\u001b[1;32m/Users/sophie/Desktop/230118_11AM/Weather-and-traffic-accidents/도로교통공단_교통사고/test/부문별/서울.부산.경기/doroold.ipynb 셀 3\u001b[0m line \u001b[0;36m1\n\u001b[0;32m----> <a href='vscode-notebook-cell:/Users/sophie/Desktop/230118_11AM/Weather-and-traffic-accidents/%EB%8F%84%EB%A1%9C%EA%B5%90%ED%86%B5%EA%B3%B5%EB%8B%A8_%EA%B5%90%ED%86%B5%EC%82%AC%EA%B3%A0/test/%EB%B6%80%EB%AC%B8%EB%B3%84/%EC%84%9C%EC%9A%B8.%EB%B6%80%EC%82%B0.%EA%B2%BD%EA%B8%B0/doroold.ipynb#W6sZmlsZQ%3D%3D?line=0'>1</a>\u001b[0m \u001b[39mimport\u001b[39;00m \u001b[39mchardet\u001b[39;00m\n\u001b[1;32m      <a href='vscode-notebook-cell:/Users/sophie/Desktop/230118_11AM/Weather-and-traffic-accidents/%EB%8F%84%EB%A1%9C%EA%B5%90%ED%86%B5%EA%B3%B5%EB%8B%A8_%EA%B5%90%ED%86%B5%EC%82%AC%EA%B3%A0/test/%EB%B6%80%EB%AC%B8%EB%B3%84/%EC%84%9C%EC%9A%B8.%EB%B6%80%EC%82%B0.%EA%B2%BD%EA%B8%B0/doroold.ipynb#W6sZmlsZQ%3D%3D?line=2'>3</a>\u001b[0m \u001b[39m# Detect file encoding\u001b[39;00m\n\u001b[1;32m      <a href='vscode-notebook-cell:/Users/sophie/Desktop/230118_11AM/Weather-and-traffic-accidents/%EB%8F%84%EB%A1%9C%EA%B5%90%ED%86%B5%EA%B3%B5%EB%8B%A8_%EA%B5%90%ED%86%B5%EC%82%AC%EA%B3%A0/test/%EB%B6%80%EB%AC%B8%EB%B3%84/%EC%84%9C%EC%9A%B8.%EB%B6%80%EC%82%B0.%EA%B2%BD%EA%B8%B0/doroold.ipynb#W6sZmlsZQ%3D%3D?line=3'>4</a>\u001b[0m \u001b[39mwith\u001b[39;00m \u001b[39mopen\u001b[39m(file_path, \u001b[39m'\u001b[39m\u001b[39mrb\u001b[39m\u001b[39m'\u001b[39m) \u001b[39mas\u001b[39;00m f:\n",
      "\u001b[0;31mModuleNotFoundError\u001b[0m: No module named 'chardet'"
     ]
    }
   ],
   "source": [
    "import chardet\n",
    "\n",
    "# Detect file encoding\n",
    "with open(file_path, 'rb') as f:\n",
    "    result = chardet.detect(f.read())\n",
    "\n",
    "# Use detected encoding to read the file\n",
    "df = pd.read_csv(file_path, sep=',', encoding=result['encoding'])"
   ]
  },
  {
   "cell_type": "code",
   "execution_count": 17,
   "metadata": {},
   "outputs": [
    {
     "name": "stdout",
     "output_type": "stream",
     "text": [
      "Requirement already satisfied: pandas in /opt/homebrew/lib/python3.11/site-packages (2.1.4)\n",
      "Requirement already satisfied: matplotlib in /opt/homebrew/lib/python3.11/site-packages (3.8.2)\n",
      "Requirement already satisfied: numpy<2,>=1.23.2 in /opt/homebrew/lib/python3.11/site-packages (from pandas) (1.26.3)\n",
      "Requirement already satisfied: python-dateutil>=2.8.2 in /opt/homebrew/lib/python3.11/site-packages (from pandas) (2.8.2)\n",
      "Requirement already satisfied: pytz>=2020.1 in /opt/homebrew/lib/python3.11/site-packages (from pandas) (2023.3.post1)\n",
      "Requirement already satisfied: tzdata>=2022.1 in /opt/homebrew/lib/python3.11/site-packages (from pandas) (2023.4)\n",
      "Requirement already satisfied: contourpy>=1.0.1 in /opt/homebrew/lib/python3.11/site-packages (from matplotlib) (1.2.0)\n",
      "Requirement already satisfied: cycler>=0.10 in /opt/homebrew/lib/python3.11/site-packages (from matplotlib) (0.12.1)\n",
      "Requirement already satisfied: fonttools>=4.22.0 in /opt/homebrew/lib/python3.11/site-packages (from matplotlib) (4.47.2)\n",
      "Requirement already satisfied: kiwisolver>=1.3.1 in /opt/homebrew/lib/python3.11/site-packages (from matplotlib) (1.4.5)\n",
      "Requirement already satisfied: packaging>=20.0 in /opt/homebrew/lib/python3.11/site-packages (from matplotlib) (23.2)\n",
      "Requirement already satisfied: pillow>=8 in /opt/homebrew/lib/python3.11/site-packages (from matplotlib) (10.2.0)\n",
      "Requirement already satisfied: pyparsing>=2.3.1 in /opt/homebrew/lib/python3.11/site-packages (from matplotlib) (3.1.1)\n",
      "Requirement already satisfied: six>=1.5 in /opt/homebrew/lib/python3.11/site-packages (from python-dateutil>=2.8.2->pandas) (1.16.0)\n"
     ]
    }
   ],
   "source": [
    "!pip install pandas matplotlib"
   ]
  },
  {
   "cell_type": "code",
   "execution_count": null,
   "metadata": {},
   "outputs": [],
   "source": [
    "import os\n",
    "\n",
    "# Get the absolute path of the current directory\n",
    "current_directory = os.path.abspath(os.getcwd())\n",
    "\n",
    "# Specify the folder path using the absolute path\n",
    "folder_path = os.path.join(current_directory, '2022csv로 변환')"
   ]
  }
 ],
 "metadata": {
  "kernelspec": {
   "display_name": "Python 3",
   "language": "python",
   "name": "python3"
  },
  "language_info": {
   "codemirror_mode": {
    "name": "ipython",
    "version": 3
   },
   "file_extension": ".py",
   "mimetype": "text/x-python",
   "name": "python",
   "nbconvert_exporter": "python",
   "pygments_lexer": "ipython3",
   "version": "3.12.1"
  }
 },
 "nbformat": 4,
 "nbformat_minor": 2
}
