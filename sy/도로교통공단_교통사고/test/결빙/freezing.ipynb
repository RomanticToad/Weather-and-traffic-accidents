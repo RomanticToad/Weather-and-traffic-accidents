{
 "cells": [
  {
   "cell_type": "code",
   "execution_count": 4,
   "metadata": {},
   "outputs": [
    {
     "name": "stdout",
     "output_type": "stream",
     "text": [
      "          관리번호  본 부  지 사        노선     시점     종점   방향  연장(km)\n",
      "0            1  수도권   인천  수도권제1순환선   92.0   93.0  양방향     1.0\n",
      "1            2  수도권   시흥      서해안선  333.0  334.0  양방향     1.0\n",
      "2            3  수도권   시흥  수도권제1순환선   96.0   97.0  양방향     1.0\n",
      "3            4  수도권   군포       영동선   19.0   20.0  양방향     1.0\n",
      "4            5  수도권   군포       영동선   33.0   34.0  양방향     1.0\n",
      "5  ... (이하 생략)  NaN  NaN       NaN    NaN    NaN  NaN     NaN\n"
     ]
    }
   ],
   "source": [
    "import pandas as pd\n",
    "from io import StringIO\n",
    "\n",
    "data = \"\"\"\\\n",
    "관리번호,본 부,지 사,노선,시점,종점,방향,연장(km)\n",
    "1,수도권,인천,수도권제1순환선,92,93,양방향,1\n",
    "2,수도권,시흥,서해안선,333,334,양방향,1\n",
    "3,수도권,시흥,수도권제1순환선,96,97,양방향,1\n",
    "4,수도권,군포,영동선,19,20,양방향,1\n",
    "5,수도권,군포,영동선,33,34,양방향,1\n",
    "... (이하 생략)\n",
    "\"\"\"\n",
    "\n",
    "# DataFrame 제공\n",
    "df = pd.read_csv(StringIO(data), sep=',')\n",
    "\n",
    "# 데이터프레임 출력\n",
    "print(df)\n"
   ]
  },
  {
   "cell_type": "code",
   "execution_count": 19,
   "metadata": {},
   "outputs": [
    {
     "name": "stdout",
     "output_type": "stream",
     "text": [
      "   지점/지역명  연도    1월    2월    3월   4월   5월   6월   7월   8월   9월  10월   11월  \\\n",
      "0      평년 NaN  29.4  24.4  13.3  1.4  0.0  0.0  0.0  0.0  0.0  1.1  11.4   \n",
      "1  최근 10년 NaN  28.3  24.5   9.6  0.7  0.0  0.0  0.0  0.0  0.0  0.9  11.0   \n",
      "2   최근 5년 NaN  28.2  23.4   8.6  0.8  0.0  0.0  0.0  0.0  0.0  0.8  12.0   \n",
      "3    2014 NaN  30.0  25.0  12.0  1.0  0.0  0.0  0.0  0.0  0.0  0.0   6.0   \n",
      "4    2015 NaN  29.0  21.0  15.0  0.0  0.0  0.0  0.0  0.0  0.0  1.0   4.0   \n",
      "5    2024 NaN  17.0   0.0   0.0  0.0  0.0  0.0  0.0  0.0  0.0  0.0   0.0   \n",
      "\n",
      "    12월    연합계    순위  \n",
      "0  26.7  107.7   NaN  \n",
      "1  26.3  101.3   NaN  \n",
      "2  26.4  100.2   NaN  \n",
      "3  31.0  105.0   3.0  \n",
      "4  21.0   91.0  10.0  \n",
      "5   0.0   17.0  11.0  \n"
     ]
    }
   ],
   "source": [
    "# 1 \"지점/지역명, 연도, 1월, 2월, ..., 12월, 연합계, 순위\" 형식의 데이터를 읽는 코드:\n",
    "\n",
    "import pandas as pd\n",
    "from io import StringIO\n",
    "\n",
    "data = \"\"\"\\\n",
    "지점/지역명,연도,1월,2월,3월,4월,5월,6월,7월,8월,9월,10월,11월,12월,연합계,순위\n",
    "평년,,29.4,24.4,13.3,1.4,0.0,0.0,0.0,0.0,0.0,1.1,11.4,26.7,107.7\n",
    "최근 10년,,28.3,24.5,9.6,0.7,0.0,0.0,0.0,0.0,0.0,0.9,11.0,26.3,101.3\n",
    "최근 5년,,28.2,23.4,8.6,0.8,0.0,0.0,0.0,0.0,0.0,0.8,12.0,26.4,100.2\n",
    "2014,,30.0,25.0,12.0,1.0,0.0,0.0,0.0,0.0,0.0,0.0,6.0,31.0,105.0,3\n",
    "2015,,29.0,21.0,15.0,0.0,0.0,0.0,0.0,0.0,0.0,1.0,4.0,21.0,91.0,10\n",
    "2024,,17.0,0.0,0.0,0.0,0.0,0.0,0.0,0.0,0.0,0.0,0.0,0.0,17.0,11\n",
    "\"\"\"\n",
    "\n",
    "# 데이터프레임 생성\n",
    "df = pd.read_csv(StringIO(data), sep=',', encoding='utf-8')\n",
    "print(df)"
   ]
  },
  {
   "cell_type": "code",
   "execution_count": 27,
   "metadata": {},
   "outputs": [
    {
     "name": "stdout",
     "output_type": "stream",
     "text": [
      "                                    #한국도로공사_결빙취약구간 현황_20230731\n",
      "관리번호 본 부  지 사 노선       시점   종점  방향                      연장(km)\n",
      "1    수도권  인천  수도권제1순환선 92   93  양방향                          1\n",
      "2    수도권  시흥  서해안선     333  334 양방향                          1\n",
      "3    수도권  시흥  수도권제1순환선 96   97  양방향                          1\n",
      "4    수도권  군포  영동선      19   20  양방향                          1\n",
      "...                                                        ...\n",
      "158  부산경남 경주  부산포항선    47.2 49  양방향                        1.8\n",
      "159  부산경남 경주  부산포항선    83   84  양방향                          1\n",
      "160  부산경남 경주  부산포항선    93   94  양방향                          1\n",
      "161  부산경남 고성  통영대전선    39   40  양방향                          1\n",
      "162  부산경남 서울산 경부선      53   56  양방향                          3\n",
      "\n",
      "[163 rows x 1 columns]\n"
     ]
    }
   ],
   "source": [
    "# \"관리번호, 본부, 지사, 노선, 시점, 종점, 방향, 연장(km)\" 형식의 데이터를 읽는 코드\n",
    "# 데이터프레임의 첫 부분 출력\n",
    "import pandas as pd\n",
    "\n",
    "# 파일 경로 설정\n",
    "file_path = 'freezingweakarea.csv'\n",
    "\n",
    "# 데이터프레임 생성\n",
    "df = pd.read_csv(file_path, sep=',', encoding='euc-kr')\n",
    "print(df)\n"
   ]
  },
  {
   "cell_type": "code",
   "execution_count": 28,
   "metadata": {},
   "outputs": [
    {
     "name": "stdout",
     "output_type": "stream",
     "text": [
      "                                  #한국도로공사_결빙취약구간 현황_20230731\n",
      "관리번호 본 부 지 사 노선       시점  종점  방향                      연장(km)\n",
      "1    수도권 인천  수도권제1순환선 92  93  양방향                          1\n",
      "2    수도권 시흥  서해안선     333 334 양방향                          1\n",
      "3    수도권 시흥  수도권제1순환선 96  97  양방향                          1\n",
      "4    수도권 군포  영동선      19  20  양방향                          1\n"
     ]
    }
   ],
   "source": [
    "# 파일 경로 설정\n",
    "file_path = 'freezingweakarea.csv'\n",
    "\n",
    "# 데이터프레임 생성\n",
    "df = pd.read_csv(file_path, sep=',', encoding='euc-kr')\n",
    "\n",
    "# 데이터프레임 일부 출력\n",
    "print(df.head())\n"
   ]
  },
  {
   "cell_type": "code",
   "execution_count": 63,
   "metadata": {},
   "outputs": [
    {
     "ename": "NameError",
     "evalue": "name 'avg_freezing_days' is not defined",
     "output_type": "error",
     "traceback": [
      "\u001b[0;31m---------------------------------------------------------------------------\u001b[0m",
      "\u001b[0;31mNameError\u001b[0m                                 Traceback (most recent call last)",
      "\u001b[1;32m/Users/sophie/Desktop/230118_11AM/Weather-and-traffic-accidents/sy/도로교통공단_교통사고/test/결빙/freezing.ipynb 셀 6\u001b[0m line \u001b[0;36m9\n\u001b[1;32m      <a href='vscode-notebook-cell:/Users/sophie/Desktop/230118_11AM/Weather-and-traffic-accidents/sy/%EB%8F%84%EB%A1%9C%EA%B5%90%ED%86%B5%EA%B3%B5%EB%8B%A8_%EA%B5%90%ED%86%B5%EC%82%AC%EA%B3%A0/test/%EA%B2%B0%EB%B9%99/freezing.ipynb#X24sZmlsZQ%3D%3D?line=6'>7</a>\u001b[0m \u001b[39m# 평균 결빙일수 그래프\u001b[39;00m\n\u001b[1;32m      <a href='vscode-notebook-cell:/Users/sophie/Desktop/230118_11AM/Weather-and-traffic-accidents/sy/%EB%8F%84%EB%A1%9C%EA%B5%90%ED%86%B5%EA%B3%B5%EB%8B%A8_%EA%B5%90%ED%86%B5%EC%82%AC%EA%B3%A0/test/%EA%B2%B0%EB%B9%99/freezing.ipynb#X24sZmlsZQ%3D%3D?line=7'>8</a>\u001b[0m plt\u001b[39m.\u001b[39msubplot(\u001b[39m1\u001b[39m, \u001b[39m2\u001b[39m, \u001b[39m1\u001b[39m)\n\u001b[0;32m----> <a href='vscode-notebook-cell:/Users/sophie/Desktop/230118_11AM/Weather-and-traffic-accidents/sy/%EB%8F%84%EB%A1%9C%EA%B5%90%ED%86%B5%EA%B3%B5%EB%8B%A8_%EA%B5%90%ED%86%B5%EC%82%AC%EA%B3%A0/test/%EA%B2%B0%EB%B9%99/freezing.ipynb#X24sZmlsZQ%3D%3D?line=8'>9</a>\u001b[0m plt\u001b[39m.\u001b[39mplot(avg_freezing_days, marker\u001b[39m=\u001b[39m\u001b[39m'\u001b[39m\u001b[39mo\u001b[39m\u001b[39m'\u001b[39m, linestyle\u001b[39m=\u001b[39m\u001b[39m'\u001b[39m\u001b[39m-\u001b[39m\u001b[39m'\u001b[39m, color\u001b[39m=\u001b[39m\u001b[39m'\u001b[39m\u001b[39mb\u001b[39m\u001b[39m'\u001b[39m)\n\u001b[1;32m     <a href='vscode-notebook-cell:/Users/sophie/Desktop/230118_11AM/Weather-and-traffic-accidents/sy/%EB%8F%84%EB%A1%9C%EA%B5%90%ED%86%B5%EA%B3%B5%EB%8B%A8_%EA%B5%90%ED%86%B5%EC%82%AC%EA%B3%A0/test/%EA%B2%B0%EB%B9%99/freezing.ipynb#X24sZmlsZQ%3D%3D?line=9'>10</a>\u001b[0m plt\u001b[39m.\u001b[39mtitle(\u001b[39m'\u001b[39m\u001b[39m평균 결빙일수\u001b[39m\u001b[39m'\u001b[39m)\n\u001b[1;32m     <a href='vscode-notebook-cell:/Users/sophie/Desktop/230118_11AM/Weather-and-traffic-accidents/sy/%EB%8F%84%EB%A1%9C%EA%B5%90%ED%86%B5%EA%B3%B5%EB%8B%A8_%EA%B5%90%ED%86%B5%EC%82%AC%EA%B3%A0/test/%EA%B2%B0%EB%B9%99/freezing.ipynb#X24sZmlsZQ%3D%3D?line=10'>11</a>\u001b[0m plt\u001b[39m.\u001b[39mxlabel(\u001b[39m'\u001b[39m\u001b[39m월\u001b[39m\u001b[39m'\u001b[39m)\n",
      "\u001b[0;31mNameError\u001b[0m: name 'avg_freezing_days' is not defined"
     ]
    },
    {
     "data": {
      "image/png": "[encoded data removed]",
      "text/plain": [
       "<Figure size 1200x600 with 1 Axes>"
      ]
     },
     "metadata": {},
     "output_type": "display_data"
    }
   ],
   "source": [
    "import pandas as pd\n",
    "import matplotlib.pyplot as plt\n",
    "\n",
    "# 그래프 시각화\n",
    "plt.figure(figsize=(12, 6))\n",
    "\n",
    "# 평균 결빙일수 그래프\n",
    "plt.subplot(1, 2, 1)\n",
    "plt.plot(avg_freezing_days, marker='o', linestyle='-', color='b')\n",
    "plt.title('평균 결빙일수')\n",
    "plt.xlabel('월')\n",
    "plt.ylabel('평균 일수')\n",
    "\n",
    "# 평균 계절별 결빙일수 그래프\n",
    "plt.subplot(1, 2, 2)\n",
    "seasons = ['봄', '여름', '가을', '겨울']\n",
    "plt.bar(seasons, seasonal_avg_freezing_days, color=['lightgreen', 'lightblue', 'lightcoral', 'lightgray'])\n",
    "plt.title('평균 계절별 결빙일수')\n",
    "plt.xlabel('계절')\n",
    "plt.ylabel('평균 일수')\n",
    "\n",
    "plt.tight_layout()\n",
    "plt.show()"
   ]
  }
 ],
 "metadata": {
  "kernelspec": {
   "display_name": "Python 3",
   "language": "python",
   "name": "python3"
  },
  "language_info": {
   "codemirror_mode": {
    "name": "ipython",
    "version": 3
   },
   "file_extension": ".py",
   "mimetype": "text/x-python",
   "name": "python",
   "nbconvert_exporter": "python",
   "pygments_lexer": "ipython3",
   "version": "3.12.1"
  }
 },
 "nbformat": 4,
 "nbformat_minor": 2
}
